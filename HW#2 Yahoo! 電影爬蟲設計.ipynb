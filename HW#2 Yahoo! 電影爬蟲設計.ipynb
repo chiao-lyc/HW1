{
 "cells": [
  {
   "cell_type": "markdown",
   "id": "65ca10a9",
   "metadata": {},
   "source": [
    "# HW#2 Yahoo! 電影爬蟲設計"
   ]
  },
  {
   "cell_type": "code",
   "execution_count": 125,
   "id": "0332e3c4",
   "metadata": {},
   "outputs": [
    {
     "name": "stdout",
     "output_type": "stream",
     "text": [
      "小小兵2：格魯的崛起\n",
      "Minions: The Rise of Guru\n",
      "上映日期：2022-07-01\n",
      "   動畫     動作     喜劇   \n",
      "今年暑假，影史最賣座的動畫電影系列之一和風靡全球的現象，即將帶來關於一個12歲小男孩的故事，他夢想成為世上最偉大的超級大壞蛋。這部全新動畫喜劇動作片就是《小小兵2：格魯的崛起》。\r\n",
      " \r\n",
      "這部電影充滿了照明娛樂招牌的顛覆性和無厘頭喜劇橋段、各種大眾文化的笑梗、感人肺腑的劇情、勁爆的電影配樂，以及宇宙超級無敵誇張的動作場面。《小小兵2：格魯的崛起》一片由這個電影系列的原創掌舵，製片包括照明娛樂極具遠見的創辦人和執行長克里斯梅勒丹德利、他的長期合作夥伴珍娜海莉，以及克里斯雷納德，導演凱爾巴爾達（《神偷奶爸3》、《小小兵》）則再度回歸執導這部電影。共同導演是布萊德艾柏森（長壽喜劇影集《辛普森家庭》）以及強納森戴凡（《寵物當家》系列電影）。\n"
     ]
    }
   ],
   "source": [
    "import requests\n",
    "from bs4 import BeautifulSoup\n",
    "url = 'https://movies.yahoo.com.tw/movieinfo_main/小小兵2-格魯的崛起-minions-the-rise-of-guru-10493'\n",
    "r = requests.get(url)\n",
    "soup = BeautifulSoup(r.text)\n",
    "infos = []\n",
    "imgs = []\n",
    "for d in soup.find_all('div', class_='movie_intro_info_r'):\n",
    "    print(d.h1.text.strip())\n",
    "    print(d.h3.text.strip())\n",
    "    print(d.find('span').text.split('上映日期 ： ')[0])\n",
    "    if not d.find('div',class_='level_name_box'):\n",
    "        print('NAN')\n",
    "    print(d.find('div',class_='level_name_box').text.replace(' ', '').replace('\\n', ' '))\n",
    "    \n",
    "    \n",
    "for d in soup.find_all('div', class_='gray_infobox_inner'):\n",
    "    print(d.find('span').text.strip())"
   ]
  },
  {
   "cell_type": "code",
   "execution_count": null,
   "id": "5b7d4510",
   "metadata": {},
   "outputs": [],
   "source": []
  },
  {
   "cell_type": "code",
   "execution_count": null,
   "id": "51dd30d5",
   "metadata": {},
   "outputs": [],
   "source": [
    "'''\n",
    "    info = {}\n",
    "\n",
    "    info['中文名稱'] = d.find('div', class_='release_movie_name').find('a', class_='gabtn').text.strip()\n",
    "    info['英文名稱'] = d.find('div', class_='release_movie_name').find('div', class_='en').a.text.strip()\n",
    "    info['分類'] = d.find()\n",
    "    info['上映日期'] = d.find('div', class_='release_movie_time').text.split('上映日期 ： ')[1]\n",
    "    info['期待度'] = ''\n",
    "    if d.find('div', class_='leveltext'):\n",
    "        info['期待度'] = d.find('div', class_='leveltext').span.text\n",
    "    infos.append(info)\n",
    "    \n",
    "for d in soup.find_all('div', class_='release_foto'):\n",
    "    img = {}\n",
    "    img['封面照片網址'] = d.find('img')['src']\n",
    "    imgs.append(img)\n",
    "\n",
    "#結合圖片和資訊(因為兩者為同一層，所以要分開跑迴圈再append)\n",
    "#此處較難\n",
    "#dictionary合併法\n",
    "#若要同層找也可以先找li再往下找就不用合併了！\n",
    "res = []\n",
    "for i, j in list(zip(infos, imgs)):\n",
    "    res.append(dict(list(i.items()) + list(j.items())))\n",
    "res\n",
    "\n",
    "'''    "
   ]
  }
 ],
 "metadata": {
  "kernelspec": {
   "display_name": "Python 3",
   "language": "python",
   "name": "python3"
  },
  "language_info": {
   "codemirror_mode": {
    "name": "ipython",
    "version": 3
   },
   "file_extension": ".py",
   "mimetype": "text/x-python",
   "name": "python",
   "nbconvert_exporter": "python",
   "pygments_lexer": "ipython3",
   "version": "3.8.8"
  }
 },
 "nbformat": 4,
 "nbformat_minor": 5
}
