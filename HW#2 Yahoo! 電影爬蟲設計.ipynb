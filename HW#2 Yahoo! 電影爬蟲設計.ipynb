{
 "cells": [
  {
   "cell_type": "markdown",
   "id": "a10b7e7c",
   "metadata": {},
   "source": [
    "# HW#2 Yahoo! 電影爬蟲設計"
   ]
  },
  {
   "cell_type": "code",
   "execution_count": 33,
   "id": "5a9f987f",
   "metadata": {},
   "outputs": [
    {
     "name": "stdout",
     "output_type": "stream",
     "text": [
      "小小兵2：格魯的崛起\n",
      "Minions: The Rise of Guru\n"
     ]
    },
    {
     "ename": "AttributeError",
     "evalue": "'NoneType' object has no attribute 'text'",
     "output_type": "error",
     "traceback": [
      "\u001b[0;31m---------------------------------------------------------------------------\u001b[0m",
      "\u001b[0;31mAttributeError\u001b[0m                            Traceback (most recent call last)",
      "\u001b[0;32m<ipython-input-33-692e9222b01b>\u001b[0m in \u001b[0;36m<module>\u001b[0;34m\u001b[0m\n\u001b[1;32m      9\u001b[0m     \u001b[0mprint\u001b[0m\u001b[0;34m(\u001b[0m\u001b[0msoup\u001b[0m\u001b[0;34m.\u001b[0m\u001b[0mh1\u001b[0m\u001b[0;34m.\u001b[0m\u001b[0mtext\u001b[0m\u001b[0;34m.\u001b[0m\u001b[0mstrip\u001b[0m\u001b[0;34m(\u001b[0m\u001b[0;34m)\u001b[0m\u001b[0;34m)\u001b[0m\u001b[0;34m\u001b[0m\u001b[0;34m\u001b[0m\u001b[0m\n\u001b[1;32m     10\u001b[0m     \u001b[0mprint\u001b[0m\u001b[0;34m(\u001b[0m\u001b[0msoup\u001b[0m\u001b[0;34m.\u001b[0m\u001b[0mh3\u001b[0m\u001b[0;34m.\u001b[0m\u001b[0mtext\u001b[0m\u001b[0;34m.\u001b[0m\u001b[0mstrip\u001b[0m\u001b[0;34m(\u001b[0m\u001b[0;34m)\u001b[0m\u001b[0;34m)\u001b[0m\u001b[0;34m\u001b[0m\u001b[0;34m\u001b[0m\u001b[0m\n\u001b[0;32m---> 11\u001b[0;31m     \u001b[0mprint\u001b[0m\u001b[0;34m(\u001b[0m\u001b[0md\u001b[0m\u001b[0;34m.\u001b[0m\u001b[0mfind\u001b[0m\u001b[0;34m(\u001b[0m\u001b[0;34m'div'\u001b[0m\u001b[0;34m,\u001b[0m\u001b[0mclass_\u001b[0m\u001b[0;34m=\u001b[0m\u001b[0;34m'level_name_box'\u001b[0m\u001b[0;34m)\u001b[0m\u001b[0;34m.\u001b[0m\u001b[0mspan\u001b[0m\u001b[0;34m.\u001b[0m\u001b[0mtext\u001b[0m\u001b[0;34m.\u001b[0m\u001b[0msplit\u001b[0m\u001b[0;34m(\u001b[0m\u001b[0;34m'上映日期 ： '\u001b[0m\u001b[0;34m)\u001b[0m\u001b[0;34m[\u001b[0m\u001b[0;36m1\u001b[0m\u001b[0;34m]\u001b[0m\u001b[0;34m)\u001b[0m\u001b[0;34m\u001b[0m\u001b[0;34m\u001b[0m\u001b[0m\n\u001b[0m\u001b[1;32m     12\u001b[0m     \u001b[0mprint\u001b[0m\u001b[0;34m(\u001b[0m\u001b[0md\u001b[0m\u001b[0;34m.\u001b[0m\u001b[0mfind\u001b[0m\u001b[0;34m(\u001b[0m\u001b[0;34m'div'\u001b[0m\u001b[0;34m,\u001b[0m \u001b[0mclass_\u001b[0m\u001b[0;34m=\u001b[0m\u001b[0;34m'movie_intro_info_r'\u001b[0m\u001b[0;34m)\u001b[0m\u001b[0;34m.\u001b[0m\u001b[0mfind\u001b[0m\u001b[0;34m(\u001b[0m\u001b[0;34m'div'\u001b[0m\u001b[0;34m,\u001b[0m\u001b[0mclass_\u001b[0m\u001b[0;34m=\u001b[0m\u001b[0;34m'level_name_box'\u001b[0m\u001b[0;34m)\u001b[0m\u001b[0;34m.\u001b[0m\u001b[0mtext\u001b[0m\u001b[0;34m.\u001b[0m\u001b[0msplit\u001b[0m\u001b[0;34m(\u001b[0m\u001b[0;34m'上映日期 ： '\u001b[0m\u001b[0;34m)\u001b[0m\u001b[0;34m[\u001b[0m\u001b[0;36m0\u001b[0m\u001b[0;34m]\u001b[0m\u001b[0;34m)\u001b[0m\u001b[0;34m\u001b[0m\u001b[0;34m\u001b[0m\u001b[0m\n\u001b[1;32m     13\u001b[0m '''\n",
      "\u001b[0;31mAttributeError\u001b[0m: 'NoneType' object has no attribute 'text'"
     ]
    }
   ],
   "source": [
    "import requests\n",
    "from bs4 import BeautifulSoup\n",
    "url = 'https://movies.yahoo.com.tw/movieinfo_main/小小兵2-格魯的崛起-minions-the-rise-of-guru-10493'\n",
    "r = requests.get(url)\n",
    "soup = BeautifulSoup(r.text)\n",
    "infos = []\n",
    "imgs = []\n",
    "for d in soup.find_all('div', class_='movie_intro_info_r'):\n",
    "    print(soup.h1.text.strip())\n",
    "    print(soup.h3.text.strip())\n",
    "    print(d.find('div',class_='level_name_box').span.text.split('上映日期 ： ')[1])\n",
    "    print(d.find('div', class_='movie_intro_info_r').find('div',class_='level_name_box').text.split('上映日期 ： ')[0])\n",
    "'''\n",
    "    info = {}\n",
    "    名稱, 分類, 劇情介紹, 上映日期\n",
    "    info['中文名稱'] = d.find('div', class_='release_movie_name').find('a', class_='gabtn').text.strip()\n",
    "    info['英文名稱'] = d.find('div', class_='release_movie_name').find('div', class_='en').a.text.strip()\n",
    "    info['分類'] = d.find()\n",
    "    info['上映日期'] = d.find('div', class_='release_movie_time').text.split('上映日期 ： ')[1]\n",
    "    info['期待度'] = ''\n",
    "    if d.find('div', class_='leveltext'):\n",
    "        info['期待度'] = d.find('div', class_='leveltext').span.text\n",
    "    infos.append(info)\n",
    "    \n",
    "for d in soup.find_all('div', class_='release_foto'):\n",
    "    img = {}\n",
    "    img['封面照片網址'] = d.find('img')['src']\n",
    "    imgs.append(img)\n",
    "\n",
    "#結合圖片和資訊(因為兩者為同一層，所以要分開跑迴圈再append)\n",
    "#此處較難\n",
    "#dictionary合併法\n",
    "#若要同層找也可以先找li再往下找就不用合併了！\n",
    "res = []\n",
    "for i, j in list(zip(infos, imgs)):\n",
    "    res.append(dict(list(i.items()) + list(j.items())))\n",
    "res\n",
    "\n",
    "'''    "
   ]
  },
  {
   "cell_type": "code",
   "execution_count": null,
   "id": "b79fa88b",
   "metadata": {},
   "outputs": [],
   "source": []
  }
 ],
 "metadata": {
  "kernelspec": {
   "display_name": "Python 3",
   "language": "python",
   "name": "python3"
  },
  "language_info": {
   "codemirror_mode": {
    "name": "ipython",
    "version": 3
   },
   "file_extension": ".py",
   "mimetype": "text/x-python",
   "name": "python",
   "nbconvert_exporter": "python",
   "pygments_lexer": "ipython3",
   "version": "3.8.8"
  }
 },
 "nbformat": 4,
 "nbformat_minor": 5
}
