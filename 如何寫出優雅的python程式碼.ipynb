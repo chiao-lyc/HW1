{
  "nbformat": 4,
  "nbformat_minor": 0,
  "metadata": {
    "colab": {
      "name": "Untitled3.ipynb",
      "provenance": [],
      "authorship_tag": "ABX9TyNMew0ZNa0KB/BMy9/hs/1k",
      "include_colab_link": true
    },
    "kernelspec": {
      "name": "python3",
      "display_name": "Python 3"
    },
    "language_info": {
      "name": "python"
    }
  },
  "cells": [
    {
      "cell_type": "markdown",
      "metadata": {
        "id": "view-in-github",
        "colab_type": "text"
      },
      "source": [
        "<a href=\"https://colab.research.google.com/github/chiao-lyc/git-example/blob/main/%E5%A6%82%E4%BD%95%E5%AF%AB%E5%87%BA%E5%84%AA%E9%9B%85%E7%9A%84python%E7%A8%8B%E5%BC%8F%E7%A2%BC.ipynb\" target=\"_parent\"><img src=\"https://colab.research.google.com/assets/colab-badge.svg\" alt=\"Open In Colab\"/></a>"
      ]
    },
    {
      "cell_type": "code",
      "metadata": {
        "colab": {
          "base_uri": "https://localhost:8080/"
        },
        "id": "-6UxdUTnAzJB",
        "outputId": "7feb40ff-9bb2-4ecf-d206-fa59b07f5be6"
      },
      "source": [
        "for i in range(1,11):\n",
        "  print(i)\n",
        "\n",
        "###\n",
        "\n",
        "L = ['a', 'b', 'c']\n",
        "for i in L:\n",
        "  print(i)\n",
        "\n",
        "###\n",
        "\n",
        "A = [1, 2, 3]\n",
        "B = []\n",
        "for i in A:\n",
        "    B.append(i*2)\n",
        "print(B) # [2, 4, 6]\n",
        "\n",
        "###比較中括號小括號\n",
        "\n",
        "A = [1,2,3]\n",
        "B = [i*2 for i in A ]\n",
        "print(B)\n",
        "\n",
        "A = [1,2,3]\n",
        "B = (i*2 for i in A )\n",
        "print(B)\n"
      ],
      "execution_count": 19,
      "outputs": [
        {
          "output_type": "stream",
          "text": [
            "1\n",
            "2\n",
            "3\n",
            "4\n",
            "5\n",
            "6\n",
            "7\n",
            "8\n",
            "9\n",
            "10\n",
            "a\n",
            "b\n",
            "c\n",
            "[2, 4, 6]\n",
            "[2, 4, 6]\n",
            "<generator object <genexpr> at 0x7f80f72d3350>\n"
          ],
          "name": "stdout"
        }
      ]
    }
  ]
}