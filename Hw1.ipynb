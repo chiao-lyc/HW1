{
 "cells": [
  {
   "cell_type": "code",
   "execution_count": 1,
   "id": "aed3a8ea",
   "metadata": {},
   "outputs": [],
   "source": [
    "import jieba\n",
    "import jieba.analyse\n",
    "jieba.set_dictionary('dict.txt.big')##加入繁體中文"
   ]
  },
  {
   "cell_type": "code",
   "execution_count": 8,
   "id": "be2b259e",
   "metadata": {},
   "outputs": [
    {
     "name": "stdout",
     "output_type": "stream",
     "text": [
      "Start Build\n",
      "Finish!\n"
     ]
    }
   ],
   "source": [
    "print(\"Start Build\")\n",
    "import re\n",
    "from collections import Counter\n",
    "import matplotlib.pyplot as plt\n",
    "\n",
    "text = \"\"\n",
    "words = []\n",
    "dict = {}\n",
    "weight = []\n",
    "\n",
    "with open('hw1-dataset.txt',encoding=\"utf-8\") as file:\n",
    "    for i,line in enumerate(file.readlines()):\n",
    "        line = re.sub(\"[A-Za-z0-9\\：\\?\\(\\.\\·\\—\\，\\。\\“ \\”]\", \"\", line)\n",
    "\n",
    "        text += line;\n",
    "        \n",
    "        #建立分詞\n",
    "        jieba.add_word('為什麼')\n",
    "        jieba.add_word('有沒有')\n",
    "        tags = jieba.lcut(line,cut_all=False)\n",
    "        for tag in tags:\n",
    "            if tag == \"\" or tag == '\\t' or tag == '\\n':\n",
    "                continue;\n",
    "            words.append(tag)\n",
    "        \n",
    "        c = Counter()\n",
    "        index = 1\n",
    "        for x in words:\n",
    "            if len(x)>1 and x != '\\r\\n':\n",
    "                c[x] += 1\n",
    "                dict.setdefault(x, index)\n",
    "                index = index + 1    \n",
    "\n",
    "print(\"Finish!\")"
   ]
  },
  {
   "cell_type": "code",
   "execution_count": 9,
   "id": "cde5fd45",
   "metadata": {},
   "outputs": [
    {
     "name": "stdout",
     "output_type": "stream",
     "text": [
      "Start Freq\n"
     ]
    },
    {
     "data": {
      "image/png": "[encoded data removed]",
      "text/plain": [
       "<Figure size 432x288 with 1 Axes>"
      ]
     },
     "metadata": {
      "needs_background": "light"
     },
     "output_type": "display_data"
    }
   ],
   "source": [
    "print(\"Start Freq\")\n",
    "TotalWord = len(words)\n",
    "x_label = []\n",
    "y_label = []\n",
    "\n",
    "with open('WordNumber_fig2.txt', 'a') as WordNum:\n",
    "    WordNum.truncate(0)\n",
    "    table = '字彙編號對應表_前一百個高頻詞彙\\n\\n'\n",
    "    WordNum.write(table)\n",
    "    table = \"word        index\\n\\n\"\n",
    "    WordNum.write(table)\n",
    "    for (k,v) in c.most_common(100):\n",
    "        freq = v/TotalWord\n",
    "        ##print(\"index %d %s:%d %f\"%(dict[k],k, v, freq))\n",
    "        \n",
    "        ## 建立字彙編號對應表\n",
    "        table = k.ljust(10)  + \" \" + str(dict[k]) + '\\n'\n",
    "        WordNum.write(table)\n",
    "\n",
    "        x_label.append(str(dict[k]))\n",
    "        y_label.append(freq)\n",
    "\n",
    "plt.title('fig #2')\n",
    "plt.bar(x_label,y_label)\n",
    "plt.show()"
   ]
  },
  {
   "cell_type": "markdown",
   "id": "9e955afa",
   "metadata": {},
   "source": [
    "### 正式版"
   ]
  },
  {
   "cell_type": "code",
   "execution_count": 10,
   "id": "02fa803c",
   "metadata": {},
   "outputs": [
    {
     "name": "stdout",
     "output_type": "stream",
     "text": [
      "Start TF-IDF\n"
     ]
    },
    {
     "data": {
      "image/png": "[encoded data removed]",
      "text/plain": [
       "<Figure size 432x288 with 1 Axes>"
      ]
     },
     "metadata": {
      "needs_background": "light"
     },
     "output_type": "display_data"
    }
   ],
   "source": [
    "print(\"Start TF-IDF\")\n",
    "from sklearn.feature_extraction.text import TfidfVectorizer\n",
    "import re\n",
    "x_label = []\n",
    "y_label = []\n",
    "totalContent = [] \n",
    "table = {}\n",
    "with open('hw1-dataset.txt',encoding=\"utf-8\") as file:\n",
    "    for i,line in enumerate(file.readlines()):\n",
    "\n",
    "        article = ''\n",
    "        \n",
    "        line = re.sub(\"[A-Za-z0-9\\：\\?\\(\\.\\·\\—\\，\\。\\“ \\”]\", \"\", line)\n",
    "\n",
    "        words = jieba.lcut(line, cut_all=False)\n",
    "        for word in words:\n",
    "            \n",
    "            if word == \"\" or word == '\\t' or word == '\\n':\n",
    "                    continue;\n",
    "\n",
    "            m = re.match(r'^[\\u4E00-\\u9FFFa-zA-Z]+$',word )\n",
    "            if m is not None:\n",
    "                article += word\n",
    "                article += ' '\n",
    "                \n",
    "        totalContent.append(article)\n",
    "\n",
    "## 權重值\n",
    "textWeightList = []\n",
    "\n",
    "if __name__ == \"__main__\":  \n",
    "    ##計算全部文章\n",
    "    tfIdfVectorizer = TfidfVectorizer()    \n",
    "    tfIdf = tfIdfVectorizer.fit_transform(totalContent)    \n",
    "    \n",
    "    myWord=tfIdfVectorizer.get_feature_names()        \n",
    "     \n",
    "    weight=tfIdf.toarray()        \n",
    "    for i in range(len(weight)):\n",
    "        ## 用來裝單篇權重值\n",
    "        textMining = {}       \n",
    "        for j in range(len(myWord)):             \n",
    "            ##print( myWord[j],weight[i][j] ) \n",
    "            textMining[myWord[j]] = weight[i][j]\n",
    "        textWeightList.append(textMining)\n",
    "        \n",
    "for oneArticle in textWeightList:\n",
    "    dict2= sorted(oneArticle.items(), key=lambda d:d[1], reverse = True)\n",
    "\n",
    "\n",
    "    for i in range(0,3):\n",
    "        table.setdefault(dict2[i][0], dict2[i][1])\n",
    "        \n",
    "new = sorted(table.items(), key=lambda e:e[1], reverse=True)\n",
    "### 將關鍵詞放進與其所對應的新聞\n",
    "with open('WordNumber_fig1.txt', 'a') as WordNum:\n",
    "    WordNum.truncate(0)\n",
    "    text = '字彙編號對應表_前一百個TF-IDF權重⾼詞彙\\n\\n'\n",
    "    WordNum.write(text)\n",
    "    text = \"word        index\\n\\n\"\n",
    "    WordNum.write(text)\n",
    "    \n",
    "    for i in range(0, 100):\n",
    "        ##print(new[i])\n",
    "        text = new[i][0].ljust(10)  + \" \" + str(dict[new[i][0]]) + '\\n'\n",
    "        WordNum.write(text)\n",
    "        x_label.append(str(dict[new[i][0]]))\n",
    "        y_label.append(new[i][1])\n",
    "    \n",
    "plt.title('fig #1')\n",
    "plt.bar(x_label,y_label)\n",
    "plt.show()"
   ]
  }
 ],
 "metadata": {
  "kernelspec": {
   "display_name": "Python 3",
   "language": "python",
   "name": "python3"
  },
  "language_info": {
   "codemirror_mode": {
    "name": "ipython",
    "version": 3
   },
   "file_extension": ".py",
   "mimetype": "text/x-python",
   "name": "python",
   "nbconvert_exporter": "python",
   "pygments_lexer": "ipython3",
   "version": "3.8.8"
  }
 },
 "nbformat": 4,
 "nbformat_minor": 5
}
