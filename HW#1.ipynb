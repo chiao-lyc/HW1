{
  "nbformat": 4,
  "nbformat_minor": 0,
  "metadata": {
    "colab": {
      "name": "Untitled2.ipynb",
      "provenance": [],
      "collapsed_sections": [],
      "authorship_tag": "ABX9TyNmAuph8YqTuN0V0BSiePdL",
      "include_colab_link": true
    },
    "kernelspec": {
      "name": "python3",
      "display_name": "Python 3"
    },
    "language_info": {
      "name": "python"
    }
  },
  "cells": [
    {
      "cell_type": "markdown",
      "metadata": {
        "id": "view-in-github",
        "colab_type": "text"
      },
      "source": [
        "<a href=\"https://colab.research.google.com/github/chiao-lyc/gitHW/blob/master/HW%231.ipynb\" target=\"_parent\"><img src=\"https://colab.research.google.com/assets/colab-badge.svg\" alt=\"Open In Colab\"/></a>"
      ]
    },
    {
      "cell_type": "code",
      "metadata": {
        "colab": {
          "base_uri": "https://localhost:8080/"
        },
        "id": "CIkZpuIsLE1V",
        "outputId": "e6103547-c36f-4a1f-aea3-e63c5f7c3fb7"
      },
      "source": [
        "# encoding=utf-8\n",
        "import jieba\n",
        "\n",
        "jieba.enable_paddle()# 启动paddle模式。 0.40版之后开始支持，早期版本不支持\n",
        "strs=[\"我来到北京清华大学\",\"乒乓球拍卖完了\",\"中国科学技术大学\"]\n",
        "for str in strs:\n",
        "    seg_list = jieba.cut(str,use_paddle=True) # 使用paddle模式\n",
        "    print(\"Paddle Mode: \" + '/'.join(list(seg_list)))\n",
        "\n",
        "seg_list = jieba.cut(\"我来到北京清华大学\", cut_all=True)\n",
        "print(\"Full Mode: \" + \"/ \".join(seg_list))  # 全模式\n",
        "\n",
        "seg_list = jieba.cut(\"我来到北京清华大学\", cut_all=False)\n",
        "print(\"Default Mode: \" + \"/ \".join(seg_list))  # 精确模式\n",
        "\n",
        "seg_list = jieba.cut(\"他来到了网易杭研大厦\")  # 默认是精确模式\n",
        "print(\", \".join(seg_list))\n",
        "\n",
        "seg_list = jieba.cut_for_search(\"小明硕士毕业于中国科学院计算所，后在日本京都大学深造\")  # 搜索引擎模式\n",
        "print(\", \".join(seg_list))"
      ],
      "execution_count": 1,
      "outputs": [
        {
          "output_type": "stream",
          "text": [
            "Installing paddle-tiny, please wait a minute......\n",
            "Paddle enabled successfully......\n",
            "Building prefix dict from the default dictionary ...\n"
          ],
          "name": "stderr"
        },
        {
          "output_type": "stream",
          "text": [
            "Paddle Mode: 我/来到/北京清华大学\n",
            "Paddle Mode: 乒乓球/拍卖/完/了\n",
            "Paddle Mode: 中国科学技术大学\n"
          ],
          "name": "stdout"
        },
        {
          "output_type": "stream",
          "text": [
            "Dumping model to file cache /tmp/jieba.cache\n",
            "Loading model cost 1.028 seconds.\n",
            "Prefix dict has been built successfully.\n"
          ],
          "name": "stderr"
        },
        {
          "output_type": "stream",
          "text": [
            "Full Mode: 我/ 来到/ 北京/ 清华/ 清华大学/ 华大/ 大学\n",
            "Default Mode: 我/ 来到/ 北京/ 清华大学\n",
            "他, 来到, 了, 网易, 杭研, 大厦\n",
            "小明, 硕士, 毕业, 于, 中国, 科学, 学院, 科学院, 中国科学院, 计算, 计算所, ，, 后, 在, 日本, 京都, 大学, 日本京都大学, 深造\n"
          ],
          "name": "stdout"
        }
      ]
    }
  ]
}